{
 "cells": [
  {
   "cell_type": "code",
   "execution_count": 21,
   "metadata": {},
   "outputs": [
    {
     "name": "stdout",
     "output_type": "stream",
     "text": [
      "['1.Pulsar', '2.Apache', '3.Duke', '4.Royal enfield', '5.Jupiter']\n"
     ]
    }
   ],
   "source": [
    "#For_loop Practise \n",
    "Bike = [\"1.Pulsar\", \"2.Apache\", \"3.Duke\", \"4.Royal enfield\", \"5.Jupiter\"]\n",
    "print(Bike)"
   ]
  },
  {
   "cell_type": "code",
   "execution_count": 22,
   "metadata": {},
   "outputs": [
    {
     "name": "stdout",
     "output_type": "stream",
     "text": [
      "1.Pulsar\n",
      "2.Apache\n",
      "3.Duke\n",
      "4.Royal enfield\n",
      "5.Jupiter\n"
     ]
    }
   ],
   "source": [
    "for bikes in Bike:\n",
    "    print(bikes)"
   ]
  },
  {
   "cell_type": "code",
   "execution_count": 6,
   "metadata": {},
   "outputs": [
    {
     "ename": "TypeError",
     "evalue": "'str' object is not callable",
     "output_type": "error",
     "traceback": [
      "\u001b[1;31m---------------------------------------------------------------------------\u001b[0m",
      "\u001b[1;31mTypeError\u001b[0m                                 Traceback (most recent call last)",
      "\u001b[1;32m<ipython-input-6-dfab21e761ca>\u001b[0m in \u001b[0;36m<module>\u001b[1;34m\u001b[0m\n\u001b[1;32m----> 1\u001b[1;33m \u001b[0mprint\u001b[0m\u001b[1;33m(\u001b[0m\u001b[0mbikes\u001b[0m\u001b[1;33m(\u001b[0m\u001b[1;36m0\u001b[0m\u001b[1;33m)\u001b[0m\u001b[1;33m)\u001b[0m\u001b[1;33m\u001b[0m\u001b[1;33m\u001b[0m\u001b[0m\n\u001b[0m",
      "\u001b[1;31mTypeError\u001b[0m: 'str' object is not callable"
     ]
    }
   ],
   "source": [
    "print(bikes(0))"
   ]
  },
  {
   "cell_type": "code",
   "execution_count": 9,
   "metadata": {},
   "outputs": [
    {
     "ename": "TypeError",
     "evalue": "'list' object is not callable",
     "output_type": "error",
     "traceback": [
      "\u001b[1;31m---------------------------------------------------------------------------\u001b[0m",
      "\u001b[1;31mTypeError\u001b[0m                                 Traceback (most recent call last)",
      "\u001b[1;32m<ipython-input-9-9548d4428a22>\u001b[0m in \u001b[0;36m<module>\u001b[1;34m\u001b[0m\n\u001b[0;32m      1\u001b[0m \u001b[0mBike\u001b[0m \u001b[1;33m=\u001b[0m \u001b[1;33m[\u001b[0m\u001b[1;34m\"Pulsar\"\u001b[0m\u001b[1;33m,\u001b[0m \u001b[1;34m\"Apache\"\u001b[0m\u001b[1;33m,\u001b[0m \u001b[1;34m\"Duke\"\u001b[0m\u001b[1;33m,\u001b[0m \u001b[1;34m\"Royal enfield\"\u001b[0m\u001b[1;33m,\u001b[0m \u001b[1;34m\"Jupiter\"\u001b[0m\u001b[1;33m]\u001b[0m\u001b[1;33m\u001b[0m\u001b[1;33m\u001b[0m\u001b[0m\n\u001b[1;32m----> 2\u001b[1;33m \u001b[0mprint\u001b[0m\u001b[1;33m(\u001b[0m\u001b[0mBike\u001b[0m\u001b[1;33m(\u001b[0m\u001b[1;36m4\u001b[0m\u001b[1;33m)\u001b[0m\u001b[1;33m)\u001b[0m\u001b[1;33m\u001b[0m\u001b[1;33m\u001b[0m\u001b[0m\n\u001b[0m",
      "\u001b[1;31mTypeError\u001b[0m: 'list' object is not callable"
     ]
    }
   ],
   "source": [
    "Bike = [\"Pulsar\", \"Apache\", \"Duke\", \"Royal enfield\", \"Jupiter\"]\n",
    "print(Bike(4))"
   ]
  },
  {
   "cell_type": "code",
   "execution_count": 23,
   "metadata": {},
   "outputs": [
    {
     "name": "stdout",
     "output_type": "stream",
     "text": [
      "Top sale bikes of 2019 in India 1.Pulsar\n",
      "Top sale bikes of 2019 in India 2.Apache\n",
      "Top sale bikes of 2019 in India 3.Duke\n",
      "Top sale bikes of 2019 in India 4.Royal enfield\n",
      "Top sale bikes of 2019 in India 5.Jupiter\n"
     ]
    }
   ],
   "source": [
    "for bikes in Bike:\n",
    "    print(f\"Top sale bikes of 2019 in India {bikes}\")"
   ]
  },
  {
   "cell_type": "code",
   "execution_count": 24,
   "metadata": {},
   "outputs": [
    {
     "name": "stdout",
     "output_type": "stream",
     "text": [
      "1.Pulsar\n",
      "2.Apache\n",
      "3.Duke\n",
      "4.Royal enfield\n",
      "5.Jupiter\n",
      "Top sale bikes of 2019 in India\n"
     ]
    }
   ],
   "source": [
    "for bikes in Bike:\n",
    "    print(bikes)\n",
    "print(\"Top sale bikes of 2019 in India\")"
   ]
  },
  {
   "cell_type": "code",
   "execution_count": 16,
   "metadata": {},
   "outputs": [
    {
     "ename": "IndentationError",
     "evalue": "expected an indented block (<ipython-input-16-f5a4f03b6327>, line 2)",
     "output_type": "error",
     "traceback": [
      "\u001b[1;36m  File \u001b[1;32m\"<ipython-input-16-f5a4f03b6327>\"\u001b[1;36m, line \u001b[1;32m2\u001b[0m\n\u001b[1;33m    print(\"Top sale bikes of 2019 in India\"):\u001b[0m\n\u001b[1;37m        ^\u001b[0m\n\u001b[1;31mIndentationError\u001b[0m\u001b[1;31m:\u001b[0m expected an indented block\n"
     ]
    }
   ],
   "source": [
    "for bikes in Bike:\n",
    "print(\"Top sale bikes of 2019 in India\"):\n",
    "        print(bikes)"
   ]
  },
  {
   "cell_type": "code",
   "execution_count": 44,
   "metadata": {},
   "outputs": [
    {
     "name": "stdout",
     "output_type": "stream",
     "text": [
      "Top sale bikes of 2019 in India:\n",
      "\n",
      "1.Pulsar\n",
      "2.Apache\n",
      "3.Duke\n",
      "4.Royal enfield\n",
      "5.Jupiter\n"
     ]
    }
   ],
   "source": [
    "print(\"Top sale bikes of 2019 in India:\\n\")\n",
    "for bikes in Bike:\n",
    "    print(bikes)"
   ]
  },
  {
   "cell_type": "code",
   "execution_count": 30,
   "metadata": {},
   "outputs": [
    {
     "name": "stdout",
     "output_type": "stream",
     "text": [
      "1.Pulsar\n",
      "2.Apache\n",
      "3.Duke\n",
      "4.Royal enfield\n",
      "5.Jupiter\n"
     ]
    }
   ],
   "source": [
    "for bikes in Bike:\n",
    "    print(bikes)"
   ]
  },
  {
   "cell_type": "code",
   "execution_count": 38,
   "metadata": {},
   "outputs": [
    {
     "name": "stdout",
     "output_type": "stream",
     "text": [
      "1.Pulsar\n",
      "\n",
      "2.Apache\n",
      "\n",
      "3.Duke\n",
      "\n",
      "4.Royal enfield\n",
      "\n",
      "5.Jupiter\n",
      "\n"
     ]
    }
   ],
   "source": [
    "for bikes in Bike:\n",
    "    print(f\"{bikes}\\n\")"
   ]
  },
  {
   "cell_type": "code",
   "execution_count": null,
   "metadata": {},
   "outputs": [],
   "source": [
    "#Doubt: How to give space for my Bike list while printing using the statment of \".\\n\""
   ]
  },
  {
   "cell_type": "code",
   "execution_count": null,
   "metadata": {},
   "outputs": [],
   "source": [
    "Doubt cleared myself. "
   ]
  }
 ],
 "metadata": {
  "kernelspec": {
   "display_name": "Python 3",
   "language": "python",
   "name": "python3"
  },
  "language_info": {
   "codemirror_mode": {
    "name": "ipython",
    "version": 3
   },
   "file_extension": ".py",
   "mimetype": "text/x-python",
   "name": "python",
   "nbconvert_exporter": "python",
   "pygments_lexer": "ipython3",
   "version": "3.7.3"
  }
 },
 "nbformat": 4,
 "nbformat_minor": 2
}
