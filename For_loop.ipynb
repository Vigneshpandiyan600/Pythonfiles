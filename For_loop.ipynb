{
 "cells": [
  {
   "cell_type": "code",
   "execution_count": null,
   "metadata": {},
   "outputs": [],
   "source": [
    "for tempvar in mainvar:\n",
    "    print(f\"keep up the good work, {mainvar})"
   ]
  },
  {
   "cell_type": "code",
   "execution_count": 6,
   "metadata": {},
   "outputs": [
    {
     "name": "stdout",
     "output_type": "stream",
     "text": [
      "['vignesh', 'Priya', 'jeyabala']\n"
     ]
    }
   ],
   "source": [
    "My_Students = ['vignesh','Priya','jeyabala']\n",
    "print(My_Students)"
   ]
  },
  {
   "cell_type": "code",
   "execution_count": 7,
   "metadata": {},
   "outputs": [
    {
     "name": "stdout",
     "output_type": "stream",
     "text": [
      "keep up the good work, vignesh\n",
      "keep up the good work, Priya\n",
      "keep up the good work, jeyabala\n"
     ]
    }
   ],
   "source": [
    "    for x in My_Students:\n",
    "        print(f\"keep up the good work, {x}\")"
   ]
  },
  {
   "cell_type": "code",
   "execution_count": 8,
   "metadata": {},
   "outputs": [
    {
     "name": "stdout",
     "output_type": "stream",
     "text": [
      "keep up the good work, vignesh\n",
      "done a good job, vignesh\n",
      "keep up the good work, Priya\n",
      "done a good job, Priya\n",
      "keep up the good work, jeyabala\n",
      "done a good job, jeyabala\n"
     ]
    }
   ],
   "source": [
    "for x in My_Students:\n",
    "        print(f\"keep up the good work, {x}\")\n",
    "        print(f\"done a good job, {x}\")"
   ]
  },
  {
   "cell_type": "code",
   "execution_count": 12,
   "metadata": {},
   "outputs": [
    {
     "name": "stdout",
     "output_type": "stream",
     "text": [
      "keep up the good work, vignesh.\n",
      "done a good job, vignesh.\n",
      "\n",
      "keep up the good work, Priya.\n",
      "done a good job, Priya.\n",
      "\n",
      "keep up the good work, jeyabala.\n",
      "done a good job, jeyabala.\n",
      "\n"
     ]
    }
   ],
   "source": [
    "for x in My_Students:\n",
    "        print(f\"keep up the good work, {x}.\")\n",
    "        print(f\"done a good job, {x}.\\n\")"
   ]
  },
  {
   "cell_type": "code",
   "execution_count": 11,
   "metadata": {},
   "outputs": [
    {
     "name": "stdout",
     "output_type": "stream",
     "text": [
      "keep up the good work, vignesh\n",
      "done a good job, vignesh.\n",
      "\n",
      "keep up the good work, Priya\n",
      "done a good job, Priya.\n",
      "\n",
      "keep up the good work, jeyabala\n",
      "done a good job, jeyabala.\n",
      "\n",
      "Thanks for your session.\n"
     ]
    }
   ],
   "source": [
    "for x in My_Students:\n",
    "        print(f\"keep up the good work, {x}\") #Printing inside the loop. \n",
    "        print(f\"done a good job, {x}.\\n\")\n",
    "print(\"Thanks for your session.\") #printing outside the loop."
   ]
  },
  {
   "cell_type": "code",
   "execution_count": null,
   "metadata": {},
   "outputs": [],
   "source": []
  }
 ],
 "metadata": {
  "kernelspec": {
   "display_name": "Python 3",
   "language": "python",
   "name": "python3"
  },
  "language_info": {
   "codemirror_mode": {
    "name": "ipython",
    "version": 3
   },
   "file_extension": ".py",
   "mimetype": "text/x-python",
   "name": "python",
   "nbconvert_exporter": "python",
   "pygments_lexer": "ipython3",
   "version": "3.7.3"
  }
 },
 "nbformat": 4,
 "nbformat_minor": 2
}
